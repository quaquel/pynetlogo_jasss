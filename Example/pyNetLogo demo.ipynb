{
 "cells": [
  {
   "cell_type": "markdown",
   "metadata": {},
   "source": [
    "## NetLogo interaction through the pyNetLogo connector\n",
    "\n",
    "This notebook provides a simple example of interaction between a NetLogo model and the Python environment, using the Wolf Sheep Predation model included in the NetLogo example library (Wilensky, 1999). A more detailed description of the different commands is provided in the paper.\n",
    "\n",
    "We start by instantiating a link to NetLogo, loading the model, and executing the \"setup\" command in NetLogo."
   ]
  },
  {
   "cell_type": "code",
   "execution_count": null,
   "metadata": {},
   "outputs": [],
   "source": [
    "%matplotlib inline\n",
    "\n",
    "import numpy as np\n",
    "import pandas as pd\n",
    "import matplotlib.pyplot as plt\n",
    "import seaborn as sns\n",
    "\n",
    "import jpype\n",
    "import pyNetLogo\n",
    "\n",
    "\n",
    "netlogo = pyNetLogo.NetLogoLink(gui=True)\n",
    "\n",
    "netlogo.load_model(r'Wolf Sheep Predation_v6.nlogo')\n",
    "netlogo.command('setup')"
   ]
  },
  {
   "cell_type": "markdown",
   "metadata": {},
   "source": [
    "We can use the write_NetLogo_attriblist function to pass properties to agents from a Pandas dataframe -- for instance, initial values for given attributes. This function improves performance by simultaneously setting multiple properties for multiple agents in a single function call.\n",
    "\n",
    "As an example, we first load data from an Excel file into a dataframe. Each row corresponds to an agent, with columns for each attribute (including the \"who\" NetLogo identifier, which is required by the function). In this case, we set coordinates for the agents using the \"xcor\" and \"ycor\" attributes."
   ]
  },
  {
   "cell_type": "code",
   "execution_count": null,
   "metadata": {},
   "outputs": [],
   "source": [
    "agent_xy = pd.read_excel('xy_DataFrame.xlsx')\n",
    "agent_xy[['who','xcor','ycor']].head(5)"
   ]
  },
  {
   "cell_type": "code",
   "execution_count": null,
   "metadata": {
    "collapsed": true
   },
   "outputs": [],
   "source": [
    "def write_NetLogo_attriblist(netlogo, agent_data, agent_name):\n",
    "    '''\n",
    "    Update a set of NetLogo agents of the same type with a list of attributes from a Pandas dataframe\n",
    "    \n",
    "    :param netlogo: NetLogoLink object\n",
    "    :param agent_data: Dataframe with columns for each attribute to update, and a row for each agent. Requires a 'who'\n",
    "                       column for the NetLogo agent ID\n",
    "    :param agent_name: String for the name of the NetLogo agent type to update (singular, e.g. a-sheep\n",
    "                        in the wolf-sheep predation example)\n",
    "    '''\n",
    "\n",
    "    #Get list of agent IDs to update, and convert to a Python string to pass to NetLogo\n",
    "    whostr = ' '.join(map(str, agent_data['who']))\n",
    "\n",
    "    #Name of NetLogo agent attributes to update\n",
    "    attribs_to_update = [str(i) for i in agent_data.columns if i != 'who']\n",
    "\n",
    "    #Convert the agent data to Python lists, then to strings to pass to NetLogo\n",
    "    attribstr = []\n",
    "    for attrib in attribs_to_update:\n",
    "        #Check if we have string or numerical data in the dataframe and format the values accordingly\n",
    "        if (agent_data[attrib].dtype == object):\n",
    "            values = ' '.join(map(lambda x: '\"{0}\"'.format(x), list(agent_data[attrib])))\n",
    "        else:\n",
    "            values = ' '.join(map(str, list(agent_data[attrib]))) \n",
    "        #Then format the values string to look like a NetLogo list\n",
    "        liststr=['[{0}]'.format(values)]\n",
    "        attribstr.append(''.join(liststr))\n",
    "        \n",
    "    #Join the strings for all the attributes\n",
    "    attribstr = ' '.join(attribstr)\n",
    "\n",
    "    #Set up the \"foreach\" NetLogo command string\n",
    "    askstr = []\n",
    "    setstr = []\n",
    "    for i, attrib_name in enumerate(attribs_to_update):\n",
    "        askstr.extend(('?{0} '.format(i+2)))\n",
    "        setstr.extend(('set {0} ?{1} '.format(attrib_name, i+2)))\n",
    "    askstr = ''.join(askstr)\n",
    "    setstr = ''.join(setstr)\n",
    "\n",
    "    if netlogo.netlogo_version == '6':\n",
    "        commandstr = ['(foreach [{0}] {1} [ [?1 {2}] -> ask {3} ?1 [{4}]])'.format(whostr, attribstr, askstr,\n",
    "                                                                                   agent_name, setstr)]\n",
    "    elif netlogo.netlogo_version == '5':\n",
    "        commandstr = ['(foreach [{0}] {1} [ask {2} ?1 [{3}]])'].format(whostr, attribstr, agent_name, setstr)\n",
    "        \n",
    "    commandstr = ''.join(commandstr)\n",
    "    \n",
    "    netlogo.command(commandstr)"
   ]
  },
  {
   "cell_type": "markdown",
   "metadata": {},
   "source": [
    "We can then pass the dataframe to NetLogo, specifying which attributes and which agent type we want to update:"
   ]
  },
  {
   "cell_type": "code",
   "execution_count": null,
   "metadata": {},
   "outputs": [],
   "source": [
    "write_NetLogo_attriblist(netlogo, agent_xy[['who','xcor','ycor']], 'a-sheep')"
   ]
  },
  {
   "cell_type": "markdown",
   "metadata": {},
   "source": [
    "We can check the data exchange by returning data from NetLogo to the Python workspace, using the report function. In the example below, the function returns arrays for the xcor and ycor coordinates of the \"sheep\" agents, sorted by their \"who\" number. These are then plotted on a conventional scatter plot.\n",
    "\n",
    "The report function directly passes a string to the NetLogo instance, so that the command syntax may need to be adjusted depending on the NetLogo version. The netlogo_version property of the link object can be used to check the current version."
   ]
  },
  {
   "cell_type": "code",
   "execution_count": null,
   "metadata": {
    "collapsed": true
   },
   "outputs": [],
   "source": [
    "if netlogo.netlogo_version == '6':\n",
    "    x = netlogo.report('map [[?1] -> [xcor] of ?1] sort sheep')\n",
    "    y = netlogo.report('map [[?1] -> [ycor] of ?1] sort sheep')\n",
    "elif netlogo.netlogo_version == '5':\n",
    "    x = netlogo.report('map [[xcor] of ?1] sort sheep')\n",
    "    y = netlogo.report('map [[ycor] of ?1] sort sheep')"
   ]
  },
  {
   "cell_type": "code",
   "execution_count": null,
   "metadata": {},
   "outputs": [],
   "source": [
    "sns.set_style('white')\n",
    "\n",
    "fig, ax = plt.subplots(1)\n",
    "\n",
    "ax.scatter(x, y, s=10)\n",
    "ax.set_xlabel('xcor')\n",
    "ax.set_ylabel('ycor')\n",
    "ax.set_aspect('equal')\n",
    "\n",
    "plt.show()"
   ]
  },
  {
   "cell_type": "markdown",
   "metadata": {},
   "source": [
    "We can then run the model for 100 ticks and update the Python coordinate arrays for the sheep agents, and return an additional array for each agent's energy value. The latter is plotted on a histogram for each agent type."
   ]
  },
  {
   "cell_type": "code",
   "execution_count": null,
   "metadata": {
    "collapsed": true
   },
   "outputs": [],
   "source": [
    "#We can use either of the following commands to run for 100 ticks:\n",
    "netlogo.command('repeat 100 [go]')\n",
    "#netlogo.repeat_command('go', 100)\n",
    "\n",
    "if netlogo.netlogo_version == '6':\n",
    "    x = netlogo.report('map [[?1] -> [xcor] of ?1] sort sheep')\n",
    "    y = netlogo.report('map [[?1] -> [ycor] of ?1] sort sheep')\n",
    "    energy_sheep = netlogo.report('map [[?1] -> [energy] of ?1] sort sheep')\n",
    "elif netlogo.netlogo_version == '5':\n",
    "    x = netlogo.report('map [[xcor] of ?1] sort sheep')\n",
    "    y = netlogo.report('map [[ycor] of ?1] sort sheep')\n",
    "    energy_sheep = netlogo.report('map [[energy] of ?1] sort sheep')\n",
    "     \n",
    "energy_wolves = netlogo.report('[energy] of wolves') #NetLogo returns these in random order"
   ]
  },
  {
   "cell_type": "code",
   "execution_count": null,
   "metadata": {},
   "outputs": [],
   "source": [
    "from mpl_toolkits.axes_grid1 import make_axes_locatable\n",
    "\n",
    "fig, ax = plt.subplots(1, 2)\n",
    "\n",
    "sc = ax[0].scatter(x, y, s=50, c=energy_sheep, cmap=plt.cm.coolwarm)\n",
    "ax[0].set_xlabel('xcor')\n",
    "ax[0].set_ylabel('ycor')\n",
    "ax[0].set_aspect('equal')\n",
    "divider = make_axes_locatable(ax[0])\n",
    "cax = divider.append_axes('right', size='5%', pad=0.1)\n",
    "cbar = plt.colorbar(sc, cax=cax, orientation='vertical')\n",
    "cbar.set_label('Energy of sheep')\n",
    "\n",
    "sns.distplot(energy_sheep, kde=False, bins=10, ax=ax[1], label='Sheep')\n",
    "sns.distplot(energy_wolves, kde=False, bins=10, ax=ax[1], label='Wolves')\n",
    "ax[1].set_xlabel('Energy')\n",
    "ax[1].set_ylabel('Counts')\n",
    "ax[1].legend()\n",
    "\n",
    "fig.set_size_inches(12,5)\n",
    "plt.show()"
   ]
  },
  {
   "cell_type": "markdown",
   "metadata": {},
   "source": [
    "The repeat_report function returns a Pandas dataframe containing reported values over a given number of ticks, for one or multiple reporters. The dataframe is indexed by ticks, with labeled columns for each reporter. In this case, we track the number of wolf and sheep agents over 200 ticks; the outcomes are first plotted as a function of time. The number of wolf agents is then plotted as a function of the number of sheep agents, to approximate a phase-space plot. "
   ]
  },
  {
   "cell_type": "code",
   "execution_count": null,
   "metadata": {},
   "outputs": [],
   "source": [
    "counts = netlogo.repeat_report(['count wolves','count sheep'], 200)\n",
    "\n",
    "fig, ax = plt.subplots(1, 2)\n",
    "\n",
    "counts.plot(x=counts.index, ax=ax[0])\n",
    "ax[0].set_xlabel('Ticks')\n",
    "ax[0].set_ylabel('Counts')\n",
    "ax[1].plot(counts['count wolves'], counts['count sheep'])\n",
    "ax[1].set_xlabel('Wolves')\n",
    "ax[1].set_ylabel('Sheep')\n",
    "\n",
    "fig.set_size_inches(12,5)\n",
    "plt.show()"
   ]
  },
  {
   "cell_type": "markdown",
   "metadata": {},
   "source": [
    "The repeat_report function can also be used with reporters that return an array. In this case, we track the energy of the wolf and sheep agents over 5 ticks, and plot the distribution of the wolves' energy at the final tick recorded in the dataframe."
   ]
  },
  {
   "cell_type": "code",
   "execution_count": null,
   "metadata": {},
   "outputs": [],
   "source": [
    "energy_df = netlogo.repeat_report(['[energy] of wolves', '[energy] of sheep'], 5)\n",
    "\n",
    "fig, ax = plt.subplots(1)\n",
    "\n",
    "sns.distplot(energy_df['[energy] of wolves'].iloc[-1], kde=False, bins=20, ax=ax)\n",
    "ax.set_xlabel('Energy')\n",
    "ax.set_ylabel('Counts')\n",
    "\n",
    "plt.show()"
   ]
  },
  {
   "cell_type": "markdown",
   "metadata": {},
   "source": [
    "Finally, the patch_report function is used to return a dataframe which (for this example) contains the 'countdown' attribute of each NetLogo patch. This dataframe essentially replicates the NetLogo environment, with column labels corresponding to the xcor patch coordinates, and indices following the pycor coordinates."
   ]
  },
  {
   "cell_type": "code",
   "execution_count": null,
   "metadata": {},
   "outputs": [],
   "source": [
    "countdown_df = netlogo.patch_report('countdown')\n",
    "\n",
    "fig, ax = plt.subplots(1)\n",
    "\n",
    "patches = sns.heatmap(countdown_df, xticklabels=5, yticklabels=5, \n",
    "                      cbar_kws={'label':'countdown'}, ax=ax)\n",
    "ax.set_xlabel('pxcor')\n",
    "ax.set_ylabel('pycor')\n",
    "ax.set_aspect('equal')\n",
    "\n",
    "plt.show()"
   ]
  },
  {
   "cell_type": "code",
   "execution_count": null,
   "metadata": {},
   "outputs": [],
   "source": [
    "netlogo.netlogo_version == '6'"
   ]
  },
  {
   "cell_type": "markdown",
   "metadata": {},
   "source": [
    "The dataframes can be manipulated with any of the existing Pandas functions, for instance by exporting to an Excel file. The patch_set function provides the inverse functionality to patch_report, and updates the NetLogo environment from a dataframe."
   ]
  },
  {
   "cell_type": "code",
   "execution_count": null,
   "metadata": {},
   "outputs": [],
   "source": [
    "countdown_df.to_excel('countdown.xlsx')\n",
    "netlogo.patch_set('countdown', countdown_df.max()-countdown_df)"
   ]
  },
  {
   "cell_type": "code",
   "execution_count": null,
   "metadata": {
    "collapsed": true
   },
   "outputs": [],
   "source": [
    "countdown_update_df = netlogo.patch_report('countdown')\n",
    "\n",
    "fig, ax = plt.subplots(1)\n",
    "\n",
    "patches = sns.heatmap(countdown_update_df, xticklabels=5, yticklabels=5, cbar_kws={'label':'countdown'}, ax=ax)\n",
    "ax.set_xlabel('pxcor')\n",
    "ax.set_ylabel('pycor')\n",
    "ax.set_aspect('equal')\n",
    "\n",
    "plt.show()"
   ]
  },
  {
   "cell_type": "markdown",
   "metadata": {},
   "source": [
    "Finally, the kill_workspace() function shuts down the NetLogo instance."
   ]
  },
  {
   "cell_type": "code",
   "execution_count": null,
   "metadata": {
    "collapsed": true
   },
   "outputs": [],
   "source": [
    "netlogo.kill_workspace()"
   ]
  }
 ],
 "metadata": {
  "kernelspec": {
   "display_name": "Python 3",
   "language": "python",
   "name": "python3"
  },
  "language_info": {
   "codemirror_mode": {
    "name": "ipython",
    "version": 3
   },
   "file_extension": ".py",
   "mimetype": "text/x-python",
   "name": "python",
   "nbconvert_exporter": "python",
   "pygments_lexer": "ipython3",
   "version": "3.6.2"
  },
  "latex_envs": {
   "LaTeX_envs_menu_present": true,
   "autocomplete": true,
   "bibliofile": "biblio.bib",
   "cite_by": "apalike",
   "current_citInitial": 1,
   "eqLabelWithNumbers": true,
   "eqNumInitial": 1,
   "hotkeys": {
    "equation": "Ctrl-E",
    "itemize": "Ctrl-I"
   },
   "labels_anchors": false,
   "latex_user_defs": false,
   "report_style_numbering": false,
   "user_envs_cfg": false
  }
 },
 "nbformat": 4,
 "nbformat_minor": 1
}
